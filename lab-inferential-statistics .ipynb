{
 "cells": [
  {
   "cell_type": "code",
   "execution_count": 1,
   "id": "764b7cd4",
   "metadata": {},
   "outputs": [],
   "source": [
    "import math"
   ]
  },
  {
   "cell_type": "markdown",
   "id": "75d96c9a",
   "metadata": {},
   "source": [
    "Null Hypothesis = Assumes that there is no effect or difference, That the mean systolic blood pressure of the sample is equal to that of the general population\n",
    "\n",
    "Alternative Hypotheses = That the mean systolic blood pressure of the sample is not equal to that of the general population and not by chance. "
   ]
  },
  {
   "cell_type": "code",
   "execution_count": 3,
   "id": "76e38160",
   "metadata": {},
   "outputs": [
    {
     "data": {
      "text/plain": [
       "4.761904761904759"
      ]
     },
     "execution_count": 3,
     "metadata": {},
     "output_type": "execute_result"
    }
   ],
   "source": [
    "sample_mean = 130.1\n",
    "sample_std = 21.21\n",
    "pop_mean = 120\n",
    "n = 100\n",
    "\n",
    "statistic = (sample_mean - pop_mean)/(sample_std/math.sqrt(n))\n",
    "statistic"
   ]
  },
  {
   "cell_type": "markdown",
   "id": "ac8d95d8",
   "metadata": {},
   "source": [
    "- With a z_score of 4.76 we can easily say that we can reject our null hypothesis. The result suggests that the sample mean is significantly different from the population mean and is unlikly to be due to random chance"
   ]
  },
  {
   "cell_type": "markdown",
   "id": "a9b3a5d2",
   "metadata": {},
   "source": [
    "# T-test and P-value\n"
   ]
  },
  {
   "cell_type": "markdown",
   "id": "2a9ea9ed",
   "metadata": {},
   "source": [
    "H0 = That the new machine is the same speed as the old machine.\n",
    "H1 = that the new machine is faster than the old machine"
   ]
  },
  {
   "cell_type": "markdown",
   "id": "aa99b5e9",
   "metadata": {},
   "source": [
    "from scipy.stats import ttest_ind, norm\n",
    "import numpy as np\n",
    "import pandas as pd\n"
   ]
  },
  {
   "cell_type": "code",
   "execution_count": 25,
   "id": "78a8495a",
   "metadata": {},
   "outputs": [
    {
     "data": {
      "text/html": [
       "<div>\n",
       "<style scoped>\n",
       "    .dataframe tbody tr th:only-of-type {\n",
       "        vertical-align: middle;\n",
       "    }\n",
       "\n",
       "    .dataframe tbody tr th {\n",
       "        vertical-align: top;\n",
       "    }\n",
       "\n",
       "    .dataframe thead th {\n",
       "        text-align: right;\n",
       "    }\n",
       "</style>\n",
       "<table border=\"1\" class=\"dataframe\">\n",
       "  <thead>\n",
       "    <tr style=\"text-align: right;\">\n",
       "      <th></th>\n",
       "      <th>New machine</th>\n",
       "      <th>Old machine</th>\n",
       "    </tr>\n",
       "  </thead>\n",
       "  <tbody>\n",
       "    <tr>\n",
       "      <th>0</th>\n",
       "      <td>42.1</td>\n",
       "      <td>42.7</td>\n",
       "    </tr>\n",
       "    <tr>\n",
       "      <th>1</th>\n",
       "      <td>41.0</td>\n",
       "      <td>43.6</td>\n",
       "    </tr>\n",
       "    <tr>\n",
       "      <th>2</th>\n",
       "      <td>41.3</td>\n",
       "      <td>43.8</td>\n",
       "    </tr>\n",
       "    <tr>\n",
       "      <th>3</th>\n",
       "      <td>41.8</td>\n",
       "      <td>43.3</td>\n",
       "    </tr>\n",
       "    <tr>\n",
       "      <th>4</th>\n",
       "      <td>42.4</td>\n",
       "      <td>42.5</td>\n",
       "    </tr>\n",
       "    <tr>\n",
       "      <th>5</th>\n",
       "      <td>42.8</td>\n",
       "      <td>43.5</td>\n",
       "    </tr>\n",
       "    <tr>\n",
       "      <th>6</th>\n",
       "      <td>43.2</td>\n",
       "      <td>43.1</td>\n",
       "    </tr>\n",
       "    <tr>\n",
       "      <th>7</th>\n",
       "      <td>42.3</td>\n",
       "      <td>41.7</td>\n",
       "    </tr>\n",
       "    <tr>\n",
       "      <th>8</th>\n",
       "      <td>41.8</td>\n",
       "      <td>44.0</td>\n",
       "    </tr>\n",
       "    <tr>\n",
       "      <th>9</th>\n",
       "      <td>42.7</td>\n",
       "      <td>44.1</td>\n",
       "    </tr>\n",
       "  </tbody>\n",
       "</table>\n",
       "</div>"
      ],
      "text/plain": [
       "   New machine      Old machine\n",
       "0         42.1             42.7\n",
       "1         41.0             43.6\n",
       "2         41.3             43.8\n",
       "3         41.8             43.3\n",
       "4         42.4             42.5\n",
       "5         42.8             43.5\n",
       "6         43.2             43.1\n",
       "7         42.3             41.7\n",
       "8         41.8             44.0\n",
       "9         42.7             44.1"
      ]
     },
     "execution_count": 25,
     "metadata": {},
     "output_type": "execute_result"
    }
   ],
   "source": [
    "\n",
    "import chardet\n",
    "\n",
    "\n",
    "with open('files_for_lab/machine.txt', 'rb') as file:\n",
    "    result = chardet.detect(file.read())\n",
    "\n",
    "df = pd.read_csv('files_for_lab/machine.txt', encoding=result['encoding'], delimiter='\\t')\n",
    "\n",
    "df"
   ]
  },
  {
   "cell_type": "code",
   "execution_count": 36,
   "id": "3e1b834b",
   "metadata": {},
   "outputs": [
    {
     "name": "stdout",
     "output_type": "stream",
     "text": [
      "The mean speed of the new machine is 42.14 compared to the old machine of 43.230000000000004\n"
     ]
    }
   ],
   "source": [
    "new_machine_mean = np.mean(df['New machine'])\n",
    "old_machine_mean = np.mean(df['    Old machine'])\n",
    "\n",
    "print(f'The mean speed of the new machine is {new_machine_mean} compared to the old machine of {old_machine_mean}')"
   ]
  },
  {
   "cell_type": "code",
   "execution_count": 37,
   "id": "7169dc67",
   "metadata": {},
   "outputs": [
    {
     "data": {
      "text/plain": [
       "Ttest_indResult(statistic=-3.3972307061176026, pvalue=0.0032111425007745158)"
      ]
     },
     "execution_count": 37,
     "metadata": {},
     "output_type": "execute_result"
    }
   ],
   "source": [
    "ttest = ttest_ind(df['New machine'], df['    Old machine'])\n",
    "ttest"
   ]
  },
  {
   "cell_type": "markdown",
   "id": "bca1f861",
   "metadata": {},
   "source": [
    "#### With a pvalue of 0.0032111425007745158 we can safely say we can rejct the null hypothesis."
   ]
  },
  {
   "cell_type": "markdown",
   "id": "0fb1321a",
   "metadata": {},
   "source": [
    "## ANOVA"
   ]
  },
  {
   "cell_type": "markdown",
   "id": "a3755b7c",
   "metadata": {},
   "source": [
    "- H0 = The etching process stays the same regardless of changing the power.\n",
    "- H1 = The etching process improves by changing the power.\n",
    "- Significance level is 0.05\n",
    "- Degrees of freedom is equal to 2. the three power levels - 1.\n",
    "- Error degress of freedom is equal to 12. the number of observations - the number of groups."
   ]
  },
  {
   "cell_type": "code",
   "execution_count": 40,
   "id": "3449255f",
   "metadata": {},
   "outputs": [],
   "source": [
    "import statsmodels.api as sm\n",
    "from statsmodels.formula.api import ols"
   ]
  },
  {
   "cell_type": "code",
   "execution_count": 43,
   "id": "7dcb68a9",
   "metadata": {},
   "outputs": [
    {
     "data": {
      "text/html": [
       "<div>\n",
       "<style scoped>\n",
       "    .dataframe tbody tr th:only-of-type {\n",
       "        vertical-align: middle;\n",
       "    }\n",
       "\n",
       "    .dataframe tbody tr th {\n",
       "        vertical-align: top;\n",
       "    }\n",
       "\n",
       "    .dataframe thead th {\n",
       "        text-align: right;\n",
       "    }\n",
       "</style>\n",
       "<table border=\"1\" class=\"dataframe\">\n",
       "  <thead>\n",
       "    <tr style=\"text-align: right;\">\n",
       "      <th></th>\n",
       "      <th>Power</th>\n",
       "      <th>Etching Rate</th>\n",
       "    </tr>\n",
       "  </thead>\n",
       "  <tbody>\n",
       "    <tr>\n",
       "      <th>0</th>\n",
       "      <td>160 W</td>\n",
       "      <td>5.43</td>\n",
       "    </tr>\n",
       "    <tr>\n",
       "      <th>1</th>\n",
       "      <td>180 W</td>\n",
       "      <td>6.24</td>\n",
       "    </tr>\n",
       "    <tr>\n",
       "      <th>2</th>\n",
       "      <td>200 W</td>\n",
       "      <td>8.79</td>\n",
       "    </tr>\n",
       "    <tr>\n",
       "      <th>3</th>\n",
       "      <td>160 W</td>\n",
       "      <td>5.71</td>\n",
       "    </tr>\n",
       "    <tr>\n",
       "      <th>4</th>\n",
       "      <td>180 W</td>\n",
       "      <td>6.71</td>\n",
       "    </tr>\n",
       "    <tr>\n",
       "      <th>5</th>\n",
       "      <td>200 W</td>\n",
       "      <td>9.20</td>\n",
       "    </tr>\n",
       "    <tr>\n",
       "      <th>6</th>\n",
       "      <td>160 W</td>\n",
       "      <td>6.22</td>\n",
       "    </tr>\n",
       "    <tr>\n",
       "      <th>7</th>\n",
       "      <td>180 W</td>\n",
       "      <td>5.98</td>\n",
       "    </tr>\n",
       "    <tr>\n",
       "      <th>8</th>\n",
       "      <td>200 W</td>\n",
       "      <td>7.90</td>\n",
       "    </tr>\n",
       "    <tr>\n",
       "      <th>9</th>\n",
       "      <td>160 W</td>\n",
       "      <td>6.01</td>\n",
       "    </tr>\n",
       "    <tr>\n",
       "      <th>10</th>\n",
       "      <td>180 W</td>\n",
       "      <td>5.66</td>\n",
       "    </tr>\n",
       "    <tr>\n",
       "      <th>11</th>\n",
       "      <td>200 W</td>\n",
       "      <td>8.15</td>\n",
       "    </tr>\n",
       "    <tr>\n",
       "      <th>12</th>\n",
       "      <td>160 W</td>\n",
       "      <td>5.59</td>\n",
       "    </tr>\n",
       "    <tr>\n",
       "      <th>13</th>\n",
       "      <td>180 W</td>\n",
       "      <td>6.60</td>\n",
       "    </tr>\n",
       "    <tr>\n",
       "      <th>14</th>\n",
       "      <td>200 W</td>\n",
       "      <td>7.55</td>\n",
       "    </tr>\n",
       "  </tbody>\n",
       "</table>\n",
       "</div>"
      ],
      "text/plain": [
       "   Power   Etching Rate\n",
       "0   160 W          5.43\n",
       "1   180 W          6.24\n",
       "2   200 W          8.79\n",
       "3   160 W          5.71\n",
       "4   180 W          6.71\n",
       "5   200 W          9.20\n",
       "6   160 W          6.22\n",
       "7   180 W          5.98\n",
       "8   200 W          7.90\n",
       "9   160 W          6.01\n",
       "10  180 W          5.66\n",
       "11  200 W          8.15\n",
       "12  160 W          5.59\n",
       "13  180 W          6.60\n",
       "14  200 W          7.55"
      ]
     },
     "execution_count": 43,
     "metadata": {},
     "output_type": "execute_result"
    }
   ],
   "source": [
    "ANOVA_df = pd.read_excel('files_for_lab/anova_lab_data.xlsx')\n",
    "ANOVA_df"
   ]
  },
  {
   "cell_type": "code",
   "execution_count": 51,
   "id": "7edaee3d",
   "metadata": {},
   "outputs": [],
   "source": [
    "ANOVA_df.rename(columns={'Etching Rate': 'Etching_Rate', 'Power ' : 'Power' }, inplace=True)"
   ]
  },
  {
   "cell_type": "code",
   "execution_count": 52,
   "id": "57f3c246",
   "metadata": {},
   "outputs": [
    {
     "data": {
      "text/html": [
       "<div>\n",
       "<style scoped>\n",
       "    .dataframe tbody tr th:only-of-type {\n",
       "        vertical-align: middle;\n",
       "    }\n",
       "\n",
       "    .dataframe tbody tr th {\n",
       "        vertical-align: top;\n",
       "    }\n",
       "\n",
       "    .dataframe thead th {\n",
       "        text-align: right;\n",
       "    }\n",
       "</style>\n",
       "<table border=\"1\" class=\"dataframe\">\n",
       "  <thead>\n",
       "    <tr style=\"text-align: right;\">\n",
       "      <th></th>\n",
       "      <th>Etching_Rate</th>\n",
       "    </tr>\n",
       "    <tr>\n",
       "      <th>Power</th>\n",
       "      <th></th>\n",
       "    </tr>\n",
       "  </thead>\n",
       "  <tbody>\n",
       "    <tr>\n",
       "      <th>160 W</th>\n",
       "      <td>5.792</td>\n",
       "    </tr>\n",
       "    <tr>\n",
       "      <th>180 W</th>\n",
       "      <td>6.238</td>\n",
       "    </tr>\n",
       "    <tr>\n",
       "      <th>200 W</th>\n",
       "      <td>8.318</td>\n",
       "    </tr>\n",
       "  </tbody>\n",
       "</table>\n",
       "</div>"
      ],
      "text/plain": [
       "       Etching_Rate\n",
       "Power              \n",
       "160 W         5.792\n",
       "180 W         6.238\n",
       "200 W         8.318"
      ]
     },
     "execution_count": 52,
     "metadata": {},
     "output_type": "execute_result"
    }
   ],
   "source": [
    "ANOVA_df.groupby('Power').agg(np.mean)"
   ]
  },
  {
   "cell_type": "code",
   "execution_count": 53,
   "id": "8467d71b",
   "metadata": {},
   "outputs": [
    {
     "data": {
      "text/html": [
       "<div>\n",
       "<style scoped>\n",
       "    .dataframe tbody tr th:only-of-type {\n",
       "        vertical-align: middle;\n",
       "    }\n",
       "\n",
       "    .dataframe tbody tr th {\n",
       "        vertical-align: top;\n",
       "    }\n",
       "\n",
       "    .dataframe thead th {\n",
       "        text-align: right;\n",
       "    }\n",
       "</style>\n",
       "<table border=\"1\" class=\"dataframe\">\n",
       "  <thead>\n",
       "    <tr style=\"text-align: right;\">\n",
       "      <th></th>\n",
       "      <th>df</th>\n",
       "      <th>sum_sq</th>\n",
       "      <th>mean_sq</th>\n",
       "      <th>F</th>\n",
       "      <th>PR(&gt;F)</th>\n",
       "    </tr>\n",
       "  </thead>\n",
       "  <tbody>\n",
       "    <tr>\n",
       "      <th>Power</th>\n",
       "      <td>2.0</td>\n",
       "      <td>18.176653</td>\n",
       "      <td>9.088327</td>\n",
       "      <td>36.878955</td>\n",
       "      <td>0.000008</td>\n",
       "    </tr>\n",
       "    <tr>\n",
       "      <th>Residual</th>\n",
       "      <td>12.0</td>\n",
       "      <td>2.957240</td>\n",
       "      <td>0.246437</td>\n",
       "      <td>NaN</td>\n",
       "      <td>NaN</td>\n",
       "    </tr>\n",
       "  </tbody>\n",
       "</table>\n",
       "</div>"
      ],
      "text/plain": [
       "            df     sum_sq   mean_sq          F    PR(>F)\n",
       "Power      2.0  18.176653  9.088327  36.878955  0.000008\n",
       "Residual  12.0   2.957240  0.246437        NaN       NaN"
      ]
     },
     "execution_count": 53,
     "metadata": {},
     "output_type": "execute_result"
    }
   ],
   "source": [
    "model = ols('Etching_Rate ~ Power', data = ANOVA_df).fit()\n",
    "sm.stats.anova_lm(model)"
   ]
  },
  {
   "cell_type": "code",
   "execution_count": 55,
   "id": "60420c6f",
   "metadata": {},
   "outputs": [
    {
     "data": {
      "text/html": [
       "<div>\n",
       "<style scoped>\n",
       "    .dataframe tbody tr th:only-of-type {\n",
       "        vertical-align: middle;\n",
       "    }\n",
       "\n",
       "    .dataframe tbody tr th {\n",
       "        vertical-align: top;\n",
       "    }\n",
       "\n",
       "    .dataframe thead tr th {\n",
       "        text-align: left;\n",
       "    }\n",
       "</style>\n",
       "<table border=\"1\" class=\"dataframe\">\n",
       "  <thead>\n",
       "    <tr>\n",
       "      <th></th>\n",
       "      <th colspan=\"3\" halign=\"left\">Etching_Rate</th>\n",
       "    </tr>\n",
       "    <tr>\n",
       "      <th>Power</th>\n",
       "      <th>160 W</th>\n",
       "      <th>180 W</th>\n",
       "      <th>200 W</th>\n",
       "    </tr>\n",
       "  </thead>\n",
       "  <tbody>\n",
       "    <tr>\n",
       "      <th>count</th>\n",
       "      <td>5.000000</td>\n",
       "      <td>5.000000</td>\n",
       "      <td>5.000000</td>\n",
       "    </tr>\n",
       "    <tr>\n",
       "      <th>mean</th>\n",
       "      <td>5.792000</td>\n",
       "      <td>6.238000</td>\n",
       "      <td>8.318000</td>\n",
       "    </tr>\n",
       "    <tr>\n",
       "      <th>std</th>\n",
       "      <td>0.319875</td>\n",
       "      <td>0.434304</td>\n",
       "      <td>0.669604</td>\n",
       "    </tr>\n",
       "    <tr>\n",
       "      <th>min</th>\n",
       "      <td>5.430000</td>\n",
       "      <td>5.660000</td>\n",
       "      <td>7.550000</td>\n",
       "    </tr>\n",
       "    <tr>\n",
       "      <th>25%</th>\n",
       "      <td>5.590000</td>\n",
       "      <td>5.980000</td>\n",
       "      <td>7.900000</td>\n",
       "    </tr>\n",
       "    <tr>\n",
       "      <th>50%</th>\n",
       "      <td>5.710000</td>\n",
       "      <td>6.240000</td>\n",
       "      <td>8.150000</td>\n",
       "    </tr>\n",
       "    <tr>\n",
       "      <th>75%</th>\n",
       "      <td>6.010000</td>\n",
       "      <td>6.600000</td>\n",
       "      <td>8.790000</td>\n",
       "    </tr>\n",
       "    <tr>\n",
       "      <th>max</th>\n",
       "      <td>6.220000</td>\n",
       "      <td>6.710000</td>\n",
       "      <td>9.200000</td>\n",
       "    </tr>\n",
       "  </tbody>\n",
       "</table>\n",
       "</div>"
      ],
      "text/plain": [
       "      Etching_Rate                    \n",
       "Power        160 W     180 W     200 W\n",
       "count     5.000000  5.000000  5.000000\n",
       "mean      5.792000  6.238000  8.318000\n",
       "std       0.319875  0.434304  0.669604\n",
       "min       5.430000  5.660000  7.550000\n",
       "25%       5.590000  5.980000  7.900000\n",
       "50%       5.710000  6.240000  8.150000\n",
       "75%       6.010000  6.600000  8.790000\n",
       "max       6.220000  6.710000  9.200000"
      ]
     },
     "execution_count": 55,
     "metadata": {},
     "output_type": "execute_result"
    }
   ],
   "source": [
    "ANOVA_df.pivot(columns = 'Power').describe()"
   ]
  },
  {
   "cell_type": "code",
   "execution_count": 59,
   "id": "65aa59ff",
   "metadata": {},
   "outputs": [
    {
     "name": "stdout",
     "output_type": "stream",
     "text": [
      "160 W Ttest_indResult(statistic=7.611403634613074, pvalue=6.237977344615716e-05)\n",
      "180 W Ttest_indResult(statistic=5.827496614588661, pvalue=0.0003926796476049085)\n",
      "200 W Ttest_indResult(statistic=0.0, pvalue=1.0)\n"
     ]
    }
   ],
   "source": [
    "power_a = ANOVA_df[ANOVA_df['Power'] == '200 W']['Etching_Rate']\n",
    "\n",
    "for power in ANOVA_df['Power'].unique():\n",
    "    power_b = ANOVA_df[ANOVA_df['Power'] == power]['Etching_Rate']\n",
    "    print(power, ttest_ind(power_a, power_b))"
   ]
  },
  {
   "cell_type": "markdown",
   "id": "082386e7",
   "metadata": {},
   "source": [
    "#### The data strongly suggests that 200 W provides the strongest increase in etching with a mean speed of 8.318 and the anova test for 180 providing a pvalue of less then 0.05 we can easily say 200 W provides the best results and each power level provides different results."
   ]
  },
  {
   "cell_type": "code",
   "execution_count": null,
   "id": "da3abcf6",
   "metadata": {},
   "outputs": [],
   "source": []
  }
 ],
 "metadata": {
  "kernelspec": {
   "display_name": "Python 3 (ipykernel)",
   "language": "python",
   "name": "python3"
  },
  "language_info": {
   "codemirror_mode": {
    "name": "ipython",
    "version": 3
   },
   "file_extension": ".py",
   "mimetype": "text/x-python",
   "name": "python",
   "nbconvert_exporter": "python",
   "pygments_lexer": "ipython3",
   "version": "3.10.9"
  }
 },
 "nbformat": 4,
 "nbformat_minor": 5
}
