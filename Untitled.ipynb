{
 "cells": [
  {
   "cell_type": "code",
   "execution_count": 1,
   "id": "4eac3147",
   "metadata": {},
   "outputs": [],
   "source": [
    "import math"
   ]
  },
  {
   "cell_type": "markdown",
   "id": "d78cc6fd",
   "metadata": {},
   "source": [
    "Null Hypothesis = Assumes that there is no effect or difference, That the mean systolic blood pressure of the sample is equal to that of the general population\n",
    "\n",
    "Alternative Hypotheses = That the mean systolic blood pressure of the sample is not equal to that of the gene "
   ]
  },
  {
   "cell_type": "code",
   "execution_count": 3,
   "id": "bfb33011",
   "metadata": {},
   "outputs": [
    {
     "data": {
      "text/plain": [
       "4.761904761904759"
      ]
     },
     "execution_count": 3,
     "metadata": {},
     "output_type": "execute_result"
    }
   ],
   "source": [
    "sample_mean = 130.1\n",
    "sample_std = 21.21\n",
    "pop_mean = 120\n",
    "n = 100\n",
    "\n",
    "statistic = (sample_mean - pop_mean)/(sample_std/math.sqrt(n))\n",
    "statistic"
   ]
  },
  {
   "cell_type": "markdown",
   "id": "a235a02f",
   "metadata": {},
   "source": [
    "- With a z_score of 4.76 we can easily say that we can reject our null hypothesis. The result suggests that the sample mean is significantly different from the population mean and is unlikly to be due to random chance"
   ]
  },
  {
   "cell_type": "code",
   "execution_count": null,
   "id": "0188dcbe",
   "metadata": {},
   "outputs": [],
   "source": []
  }
 ],
 "metadata": {
  "kernelspec": {
   "display_name": "Python 3 (ipykernel)",
   "language": "python",
   "name": "python3"
  },
  "language_info": {
   "codemirror_mode": {
    "name": "ipython",
    "version": 3
   },
   "file_extension": ".py",
   "mimetype": "text/x-python",
   "name": "python",
   "nbconvert_exporter": "python",
   "pygments_lexer": "ipython3",
   "version": "3.10.9"
  }
 },
 "nbformat": 4,
 "nbformat_minor": 5
}
